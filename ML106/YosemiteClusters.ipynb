{
  "nbformat": 4,
  "nbformat_minor": 0,
  "metadata": {
    "colab": {
      "provenance": [],
      "collapsed_sections": []
    },
    "kernelspec": {
      "name": "python3",
      "display_name": "Python 3"
    },
    "language_info": {
      "name": "python"
    }
  },
  "cells": [
    {
      "cell_type": "code",
      "execution_count": null,
      "metadata": {
        "id": "iBXnSLRafyao"
      },
      "outputs": [],
      "source": [
        "import pandas as pd\n",
        "import matplotlib.pyplot as plt\n",
        "from sklearn.cluster import KMeans\n",
        "import seaborn as sns\n",
        "from google.colab import drive\n",
        "from google.colab import files\n",
        "drive.mount('/content/drive')\n",
        "data = pd.read_csv('/content/drive/My Drive/geyser.csv')\n",
        "data"
      ]
    },
    {
      "cell_type": "code",
      "source": [
        "inertias = []\n",
        "clusters = range(what_goes_here?)\n",
        "for cluster in clusters:\n",
        "  kmeans = KMeans(what_goes_here?)\n",
        "  kmeans.fit(what_goes_here?)\n",
        "  inertias.append(kmeans.inertia_)\n",
        "\n",
        "plt.plot(clusters, inertias)\n",
        "plt.xticks(clusters)\n",
        "plt.xlabel(\"Number of Clusters\")\n",
        "plt.ylabel(\"Inertias\")\n",
        "plt.title(\"Elbow Method for Geyser Data\")\n",
        "plt.grid(True)\n",
        "plt.show()"
      ],
      "metadata": {
        "id": "f2GPht9Lkk3k"
      },
      "execution_count": null,
      "outputs": []
    },
    {
      "cell_type": "code",
      "source": [
        "fig, ax = plt.subplots(figsize=(5,5))\n",
        "\n",
        "ax.scatter(data[\"eruptions\"], data[\"waiting\"])\n",
        "\n",
        "ax.set(xlabel='Eruptions (minutes)', ylabel='Waiting time (minutes)',\n",
        "       title=\"Old Faithful Geyser Eruptions\")\n",
        "ax.grid()\n",
        "plt.show()"
      ],
      "metadata": {
        "id": "_xqzA-R4gTpX"
      },
      "execution_count": null,
      "outputs": []
    },
    {
      "cell_type": "code",
      "source": [
        "kmeans = KMeans(what_goes_here?)\n",
        "kmeans.what_method?(data)"
      ],
      "metadata": {
        "id": "yHe0Jl5NllS6"
      },
      "execution_count": null,
      "outputs": []
    },
    {
      "cell_type": "code",
      "source": [
        "data[\"Cluster\"] = kmeans.labels_"
      ],
      "metadata": {
        "id": "ClguyGnlp8ZJ"
      },
      "execution_count": null,
      "outputs": []
    },
    {
      "cell_type": "code",
      "source": [
        "sns.set(rc = {'figure.figsize':(10,8)}, style=\"white\", color_codes=True)\n",
        "\n",
        "a = sns.scatterplot(x=\"eruptions\", y=\"waiting\", palette='Set1', \n",
        "                    hue=\"Cluster\", data=data, alpha=0.5, s=100)\n",
        "\n",
        "label_index = []\n",
        "for idx, label in enumerate(kmeans.cluster_centers_):\n",
        "  label_index.append(idx)\n",
        "scatter = sns.scatterplot(x=kmeans.cluster_centers_[:,0],y=kmeans.cluster_centers_[:,1], \n",
        "                          palette='Set1', hue=label_index, s=400, legend=False)\n",
        "scatter.set_title(\"Old Faithful Geyser Clusters\", fontsize=23, y=1.02)\n",
        "plt.legend(title='Class', loc='upper left', labels=['Long term', 'Short term'])\n",
        "plt.grid(True)"
      ],
      "metadata": {
        "id": "g0HRjiR8lsPb"
      },
      "execution_count": null,
      "outputs": []
    },
    {
      "cell_type": "code",
      "source": [
        "print(\"how do we print the centroid's coordinates here?\")"
      ],
      "metadata": {
        "id": "RHwLI_6aA4TQ"
      },
      "execution_count": null,
      "outputs": []
    }
  ]
}
