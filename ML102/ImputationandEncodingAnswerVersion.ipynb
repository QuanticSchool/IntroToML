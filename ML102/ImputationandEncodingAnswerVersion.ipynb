{
  "nbformat": 4,
  "nbformat_minor": 0,
  "metadata": {
    "colab": {
      "name": "Imputation and Encoding Answer Version.ipynb",
      "provenance": [],
      "collapsed_sections": []
    },
    "kernelspec": {
      "name": "python3",
      "display_name": "Python 3"
    },
    "language_info": {
      "name": "python"
    }
  },
  "cells": [
    {
      "cell_type": "markdown",
      "source": [
        "Data comes from [The Extrasolar Planet Encyclopedia](http://exoplanet.eu/). Thanks to Ilya Marchenko for sharing this dataset on [Kaggle](https://www.kaggle.com/ilyamarchenko/full-exoplanet-catalog?select=exoplanet_confirm_and_candidates.csv)."
      ],
      "metadata": {
        "id": "BB3sNglQrnTN"
      }
    },
    {
      "cell_type": "code",
      "execution_count": null,
      "metadata": {
        "id": "g2AaGqEU9bC1",
        "colab": {
          "base_uri": "https://localhost:8080/"
        },
        "outputId": "9149634a-4501-47fb-89b6-257fcd44bcd2"
      },
      "outputs": [
        {
          "output_type": "stream",
          "name": "stdout",
          "text": [
            "Mounted at /content/drive\n"
          ]
        }
      ],
      "source": [
        "from google.colab import drive\n",
        "import pandas as pd\n",
        "drive.mount('/content/drive')"
      ]
    },
    {
      "cell_type": "code",
      "source": [
        "exo_full_dataset = pd.read_csv('/content/drive/My Drive/exoplanets.csv')\n",
        "exo_full_dataset.head()"
      ],
      "metadata": {
        "id": "3BI5pE0bLfsB",
        "colab": {
          "base_uri": "https://localhost:8080/",
          "height": 490
        },
        "outputId": "3098b499-1233-4c0c-bafd-58caf579d180"
      },
      "execution_count": null,
      "outputs": [
        {
          "output_type": "execute_result",
          "data": {
            "text/plain": [
              "     # name planet_status   mass  mass_error_min  mass_error_max  mass_sini  \\\n",
              "0  11 Com b     Confirmed    NaN             NaN             NaN      19.40   \n",
              "1  11 Oph b     Confirmed  21.00            3.00            3.00        NaN   \n",
              "2  11 UMi b     Confirmed    NaN             NaN             NaN      10.50   \n",
              "3  11 Uma b   Unconfirmed   3.72            0.82            0.82        NaN   \n",
              "4  14 And b     Confirmed    NaN             NaN             NaN       5.33   \n",
              "\n",
              "   mass_sini_error_min  mass_sini_error_max  radius  radius_error_min  ...  \\\n",
              "0                 1.50                 1.50     NaN               NaN  ...   \n",
              "1                  NaN                  NaN     NaN               NaN  ...   \n",
              "2                 2.47                 2.47     NaN               NaN  ...   \n",
              "3                  NaN                  NaN     NaN               NaN  ...   \n",
              "4                 0.57                 0.57     NaN               NaN  ...   \n",
              "\n",
              "   star_sp_type  star_age  star_age_error_min  star_age_error_max  star_teff  \\\n",
              "0        G8 III       NaN                 NaN                 NaN     4742.0   \n",
              "1            M9     0.011               0.002               0.002     2375.0   \n",
              "2         K4III     1.560               0.540               0.540     4340.0   \n",
              "3         K5III       NaN                 NaN                 NaN     4090.0   \n",
              "4         K0III       NaN                 NaN                 NaN     4813.0   \n",
              "\n",
              "   star_teff_error_min  star_teff_error_max  star_detected_disc  \\\n",
              "0                100.0                100.0                 NaN   \n",
              "1                175.0                175.0                 NaN   \n",
              "2                 70.0                 70.0                 NaN   \n",
              "3                 70.0                 70.0                 NaN   \n",
              "4                 20.0                 20.0                 NaN   \n",
              "\n",
              "   star_magnetic_field    star_alternate_names  \n",
              "0                  NaN                     NaN  \n",
              "1                  NaN  Oph 1622-2405, Oph 11A  \n",
              "2                  NaN                     NaN  \n",
              "3                  NaN                     NaN  \n",
              "4                  NaN                     NaN  \n",
              "\n",
              "[5 rows x 98 columns]"
            ],
            "text/html": [
              "\n",
              "  <div id=\"df-72d27323-46e3-403d-9302-f49a8eb18451\">\n",
              "    <div class=\"colab-df-container\">\n",
              "      <div>\n",
              "<style scoped>\n",
              "    .dataframe tbody tr th:only-of-type {\n",
              "        vertical-align: middle;\n",
              "    }\n",
              "\n",
              "    .dataframe tbody tr th {\n",
              "        vertical-align: top;\n",
              "    }\n",
              "\n",
              "    .dataframe thead th {\n",
              "        text-align: right;\n",
              "    }\n",
              "</style>\n",
              "<table border=\"1\" class=\"dataframe\">\n",
              "  <thead>\n",
              "    <tr style=\"text-align: right;\">\n",
              "      <th></th>\n",
              "      <th># name</th>\n",
              "      <th>planet_status</th>\n",
              "      <th>mass</th>\n",
              "      <th>mass_error_min</th>\n",
              "      <th>mass_error_max</th>\n",
              "      <th>mass_sini</th>\n",
              "      <th>mass_sini_error_min</th>\n",
              "      <th>mass_sini_error_max</th>\n",
              "      <th>radius</th>\n",
              "      <th>radius_error_min</th>\n",
              "      <th>...</th>\n",
              "      <th>star_sp_type</th>\n",
              "      <th>star_age</th>\n",
              "      <th>star_age_error_min</th>\n",
              "      <th>star_age_error_max</th>\n",
              "      <th>star_teff</th>\n",
              "      <th>star_teff_error_min</th>\n",
              "      <th>star_teff_error_max</th>\n",
              "      <th>star_detected_disc</th>\n",
              "      <th>star_magnetic_field</th>\n",
              "      <th>star_alternate_names</th>\n",
              "    </tr>\n",
              "  </thead>\n",
              "  <tbody>\n",
              "    <tr>\n",
              "      <th>0</th>\n",
              "      <td>11 Com b</td>\n",
              "      <td>Confirmed</td>\n",
              "      <td>NaN</td>\n",
              "      <td>NaN</td>\n",
              "      <td>NaN</td>\n",
              "      <td>19.40</td>\n",
              "      <td>1.50</td>\n",
              "      <td>1.50</td>\n",
              "      <td>NaN</td>\n",
              "      <td>NaN</td>\n",
              "      <td>...</td>\n",
              "      <td>G8 III</td>\n",
              "      <td>NaN</td>\n",
              "      <td>NaN</td>\n",
              "      <td>NaN</td>\n",
              "      <td>4742.0</td>\n",
              "      <td>100.0</td>\n",
              "      <td>100.0</td>\n",
              "      <td>NaN</td>\n",
              "      <td>NaN</td>\n",
              "      <td>NaN</td>\n",
              "    </tr>\n",
              "    <tr>\n",
              "      <th>1</th>\n",
              "      <td>11 Oph b</td>\n",
              "      <td>Confirmed</td>\n",
              "      <td>21.00</td>\n",
              "      <td>3.00</td>\n",
              "      <td>3.00</td>\n",
              "      <td>NaN</td>\n",
              "      <td>NaN</td>\n",
              "      <td>NaN</td>\n",
              "      <td>NaN</td>\n",
              "      <td>NaN</td>\n",
              "      <td>...</td>\n",
              "      <td>M9</td>\n",
              "      <td>0.011</td>\n",
              "      <td>0.002</td>\n",
              "      <td>0.002</td>\n",
              "      <td>2375.0</td>\n",
              "      <td>175.0</td>\n",
              "      <td>175.0</td>\n",
              "      <td>NaN</td>\n",
              "      <td>NaN</td>\n",
              "      <td>Oph 1622-2405, Oph 11A</td>\n",
              "    </tr>\n",
              "    <tr>\n",
              "      <th>2</th>\n",
              "      <td>11 UMi b</td>\n",
              "      <td>Confirmed</td>\n",
              "      <td>NaN</td>\n",
              "      <td>NaN</td>\n",
              "      <td>NaN</td>\n",
              "      <td>10.50</td>\n",
              "      <td>2.47</td>\n",
              "      <td>2.47</td>\n",
              "      <td>NaN</td>\n",
              "      <td>NaN</td>\n",
              "      <td>...</td>\n",
              "      <td>K4III</td>\n",
              "      <td>1.560</td>\n",
              "      <td>0.540</td>\n",
              "      <td>0.540</td>\n",
              "      <td>4340.0</td>\n",
              "      <td>70.0</td>\n",
              "      <td>70.0</td>\n",
              "      <td>NaN</td>\n",
              "      <td>NaN</td>\n",
              "      <td>NaN</td>\n",
              "    </tr>\n",
              "    <tr>\n",
              "      <th>3</th>\n",
              "      <td>11 Uma b</td>\n",
              "      <td>Unconfirmed</td>\n",
              "      <td>3.72</td>\n",
              "      <td>0.82</td>\n",
              "      <td>0.82</td>\n",
              "      <td>NaN</td>\n",
              "      <td>NaN</td>\n",
              "      <td>NaN</td>\n",
              "      <td>NaN</td>\n",
              "      <td>NaN</td>\n",
              "      <td>...</td>\n",
              "      <td>K5III</td>\n",
              "      <td>NaN</td>\n",
              "      <td>NaN</td>\n",
              "      <td>NaN</td>\n",
              "      <td>4090.0</td>\n",
              "      <td>70.0</td>\n",
              "      <td>70.0</td>\n",
              "      <td>NaN</td>\n",
              "      <td>NaN</td>\n",
              "      <td>NaN</td>\n",
              "    </tr>\n",
              "    <tr>\n",
              "      <th>4</th>\n",
              "      <td>14 And b</td>\n",
              "      <td>Confirmed</td>\n",
              "      <td>NaN</td>\n",
              "      <td>NaN</td>\n",
              "      <td>NaN</td>\n",
              "      <td>5.33</td>\n",
              "      <td>0.57</td>\n",
              "      <td>0.57</td>\n",
              "      <td>NaN</td>\n",
              "      <td>NaN</td>\n",
              "      <td>...</td>\n",
              "      <td>K0III</td>\n",
              "      <td>NaN</td>\n",
              "      <td>NaN</td>\n",
              "      <td>NaN</td>\n",
              "      <td>4813.0</td>\n",
              "      <td>20.0</td>\n",
              "      <td>20.0</td>\n",
              "      <td>NaN</td>\n",
              "      <td>NaN</td>\n",
              "      <td>NaN</td>\n",
              "    </tr>\n",
              "  </tbody>\n",
              "</table>\n",
              "<p>5 rows × 98 columns</p>\n",
              "</div>\n",
              "      <button class=\"colab-df-convert\" onclick=\"convertToInteractive('df-72d27323-46e3-403d-9302-f49a8eb18451')\"\n",
              "              title=\"Convert this dataframe to an interactive table.\"\n",
              "              style=\"display:none;\">\n",
              "        \n",
              "  <svg xmlns=\"http://www.w3.org/2000/svg\" height=\"24px\"viewBox=\"0 0 24 24\"\n",
              "       width=\"24px\">\n",
              "    <path d=\"M0 0h24v24H0V0z\" fill=\"none\"/>\n",
              "    <path d=\"M18.56 5.44l.94 2.06.94-2.06 2.06-.94-2.06-.94-.94-2.06-.94 2.06-2.06.94zm-11 1L8.5 8.5l.94-2.06 2.06-.94-2.06-.94L8.5 2.5l-.94 2.06-2.06.94zm10 10l.94 2.06.94-2.06 2.06-.94-2.06-.94-.94-2.06-.94 2.06-2.06.94z\"/><path d=\"M17.41 7.96l-1.37-1.37c-.4-.4-.92-.59-1.43-.59-.52 0-1.04.2-1.43.59L10.3 9.45l-7.72 7.72c-.78.78-.78 2.05 0 2.83L4 21.41c.39.39.9.59 1.41.59.51 0 1.02-.2 1.41-.59l7.78-7.78 2.81-2.81c.8-.78.8-2.07 0-2.86zM5.41 20L4 18.59l7.72-7.72 1.47 1.35L5.41 20z\"/>\n",
              "  </svg>\n",
              "      </button>\n",
              "      \n",
              "  <style>\n",
              "    .colab-df-container {\n",
              "      display:flex;\n",
              "      flex-wrap:wrap;\n",
              "      gap: 12px;\n",
              "    }\n",
              "\n",
              "    .colab-df-convert {\n",
              "      background-color: #E8F0FE;\n",
              "      border: none;\n",
              "      border-radius: 50%;\n",
              "      cursor: pointer;\n",
              "      display: none;\n",
              "      fill: #1967D2;\n",
              "      height: 32px;\n",
              "      padding: 0 0 0 0;\n",
              "      width: 32px;\n",
              "    }\n",
              "\n",
              "    .colab-df-convert:hover {\n",
              "      background-color: #E2EBFA;\n",
              "      box-shadow: 0px 1px 2px rgba(60, 64, 67, 0.3), 0px 1px 3px 1px rgba(60, 64, 67, 0.15);\n",
              "      fill: #174EA6;\n",
              "    }\n",
              "\n",
              "    [theme=dark] .colab-df-convert {\n",
              "      background-color: #3B4455;\n",
              "      fill: #D2E3FC;\n",
              "    }\n",
              "\n",
              "    [theme=dark] .colab-df-convert:hover {\n",
              "      background-color: #434B5C;\n",
              "      box-shadow: 0px 1px 3px 1px rgba(0, 0, 0, 0.15);\n",
              "      filter: drop-shadow(0px 1px 2px rgba(0, 0, 0, 0.3));\n",
              "      fill: #FFFFFF;\n",
              "    }\n",
              "  </style>\n",
              "\n",
              "      <script>\n",
              "        const buttonEl =\n",
              "          document.querySelector('#df-72d27323-46e3-403d-9302-f49a8eb18451 button.colab-df-convert');\n",
              "        buttonEl.style.display =\n",
              "          google.colab.kernel.accessAllowed ? 'block' : 'none';\n",
              "\n",
              "        async function convertToInteractive(key) {\n",
              "          const element = document.querySelector('#df-72d27323-46e3-403d-9302-f49a8eb18451');\n",
              "          const dataTable =\n",
              "            await google.colab.kernel.invokeFunction('convertToInteractive',\n",
              "                                                     [key], {});\n",
              "          if (!dataTable) return;\n",
              "\n",
              "          const docLinkHtml = 'Like what you see? Visit the ' +\n",
              "            '<a target=\"_blank\" href=https://colab.research.google.com/notebooks/data_table.ipynb>data table notebook</a>'\n",
              "            + ' to learn more about interactive tables.';\n",
              "          element.innerHTML = '';\n",
              "          dataTable['output_type'] = 'display_data';\n",
              "          await google.colab.output.renderOutput(dataTable, element);\n",
              "          const docLink = document.createElement('div');\n",
              "          docLink.innerHTML = docLinkHtml;\n",
              "          element.appendChild(docLink);\n",
              "        }\n",
              "      </script>\n",
              "    </div>\n",
              "  </div>\n",
              "  "
            ]
          },
          "metadata": {},
          "execution_count": 2
        }
      ]
    },
    {
      "cell_type": "code",
      "source": [
        "exo = exo_full_dataset.loc[:, ['radius', 'mass', 'planet_status', 'orbital_period', 'star_distance']] "
      ],
      "metadata": {
        "id": "97Titj3M_tmn"
      },
      "execution_count": null,
      "outputs": []
    },
    {
      "cell_type": "code",
      "source": [
        "print(\"\\nUnique values\\n\",exo.nunique())\n",
        "print(\"\\nNull values\\n\\n\", exo.isna().sum())"
      ],
      "metadata": {
        "id": "Jfak73vWDrX_",
        "colab": {
          "base_uri": "https://localhost:8080/"
        },
        "outputId": "864796b1-5d04-4468-bb4b-42e4bc602a1f"
      },
      "execution_count": null,
      "outputs": [
        {
          "output_type": "stream",
          "name": "stdout",
          "text": [
            "\n",
            "Unique values\n",
            " radius            1572\n",
            "mass              1057\n",
            "planet_status        5\n",
            "orbital_period    7050\n",
            "star_distance     2532\n",
            "dtype: int64\n",
            "\n",
            "Null values\n",
            "\n",
            " radius            1504\n",
            "mass              5815\n",
            "planet_status        0\n",
            "orbital_period     335\n",
            "star_distance     2665\n",
            "dtype: int64\n"
          ]
        }
      ]
    },
    {
      "cell_type": "markdown",
      "source": [
        "## Create dummy example data\n",
        "\n",
        "For all techniques we'll first demonstrate them on the simple DataFrame created below, then on the more realistic CSV file."
      ],
      "metadata": {
        "id": "iKwGAw9-NQqS"
      }
    },
    {
      "cell_type": "code",
      "source": [
        "import numpy as np\n",
        "\n",
        "alien_species = {\"alien_height\":[80, 63, 70, 93, np.nan], \"alien_age\":[12, np.nan, 87, 415, 892], \"home_planet\":[\"Mars\", \"Jupiter\", \"Europa\", \"Mars\", \"Europa\"]}\n",
        "\n",
        "alien_df = pd.DataFrame(alien_species)\n",
        "alien_df.head()"
      ],
      "metadata": {
        "id": "LCJ63eqvIbwq",
        "colab": {
          "base_uri": "https://localhost:8080/",
          "height": 206
        },
        "outputId": "bcb31965-b47e-495c-fdae-2f5b4bc0ec0a"
      },
      "execution_count": null,
      "outputs": [
        {
          "output_type": "execute_result",
          "data": {
            "text/plain": [
              "   alien_height  alien_age home_planet\n",
              "0          80.0       12.0        Mars\n",
              "1          63.0        NaN     Jupiter\n",
              "2          70.0       87.0      Europa\n",
              "3          93.0      415.0        Mars\n",
              "4           NaN      892.0      Europa"
            ],
            "text/html": [
              "\n",
              "  <div id=\"df-413e5301-b06a-40b9-ac00-e7ae2d17bdcd\">\n",
              "    <div class=\"colab-df-container\">\n",
              "      <div>\n",
              "<style scoped>\n",
              "    .dataframe tbody tr th:only-of-type {\n",
              "        vertical-align: middle;\n",
              "    }\n",
              "\n",
              "    .dataframe tbody tr th {\n",
              "        vertical-align: top;\n",
              "    }\n",
              "\n",
              "    .dataframe thead th {\n",
              "        text-align: right;\n",
              "    }\n",
              "</style>\n",
              "<table border=\"1\" class=\"dataframe\">\n",
              "  <thead>\n",
              "    <tr style=\"text-align: right;\">\n",
              "      <th></th>\n",
              "      <th>alien_height</th>\n",
              "      <th>alien_age</th>\n",
              "      <th>home_planet</th>\n",
              "    </tr>\n",
              "  </thead>\n",
              "  <tbody>\n",
              "    <tr>\n",
              "      <th>0</th>\n",
              "      <td>80.0</td>\n",
              "      <td>12.0</td>\n",
              "      <td>Mars</td>\n",
              "    </tr>\n",
              "    <tr>\n",
              "      <th>1</th>\n",
              "      <td>63.0</td>\n",
              "      <td>NaN</td>\n",
              "      <td>Jupiter</td>\n",
              "    </tr>\n",
              "    <tr>\n",
              "      <th>2</th>\n",
              "      <td>70.0</td>\n",
              "      <td>87.0</td>\n",
              "      <td>Europa</td>\n",
              "    </tr>\n",
              "    <tr>\n",
              "      <th>3</th>\n",
              "      <td>93.0</td>\n",
              "      <td>415.0</td>\n",
              "      <td>Mars</td>\n",
              "    </tr>\n",
              "    <tr>\n",
              "      <th>4</th>\n",
              "      <td>NaN</td>\n",
              "      <td>892.0</td>\n",
              "      <td>Europa</td>\n",
              "    </tr>\n",
              "  </tbody>\n",
              "</table>\n",
              "</div>\n",
              "      <button class=\"colab-df-convert\" onclick=\"convertToInteractive('df-413e5301-b06a-40b9-ac00-e7ae2d17bdcd')\"\n",
              "              title=\"Convert this dataframe to an interactive table.\"\n",
              "              style=\"display:none;\">\n",
              "        \n",
              "  <svg xmlns=\"http://www.w3.org/2000/svg\" height=\"24px\"viewBox=\"0 0 24 24\"\n",
              "       width=\"24px\">\n",
              "    <path d=\"M0 0h24v24H0V0z\" fill=\"none\"/>\n",
              "    <path d=\"M18.56 5.44l.94 2.06.94-2.06 2.06-.94-2.06-.94-.94-2.06-.94 2.06-2.06.94zm-11 1L8.5 8.5l.94-2.06 2.06-.94-2.06-.94L8.5 2.5l-.94 2.06-2.06.94zm10 10l.94 2.06.94-2.06 2.06-.94-2.06-.94-.94-2.06-.94 2.06-2.06.94z\"/><path d=\"M17.41 7.96l-1.37-1.37c-.4-.4-.92-.59-1.43-.59-.52 0-1.04.2-1.43.59L10.3 9.45l-7.72 7.72c-.78.78-.78 2.05 0 2.83L4 21.41c.39.39.9.59 1.41.59.51 0 1.02-.2 1.41-.59l7.78-7.78 2.81-2.81c.8-.78.8-2.07 0-2.86zM5.41 20L4 18.59l7.72-7.72 1.47 1.35L5.41 20z\"/>\n",
              "  </svg>\n",
              "      </button>\n",
              "      \n",
              "  <style>\n",
              "    .colab-df-container {\n",
              "      display:flex;\n",
              "      flex-wrap:wrap;\n",
              "      gap: 12px;\n",
              "    }\n",
              "\n",
              "    .colab-df-convert {\n",
              "      background-color: #E8F0FE;\n",
              "      border: none;\n",
              "      border-radius: 50%;\n",
              "      cursor: pointer;\n",
              "      display: none;\n",
              "      fill: #1967D2;\n",
              "      height: 32px;\n",
              "      padding: 0 0 0 0;\n",
              "      width: 32px;\n",
              "    }\n",
              "\n",
              "    .colab-df-convert:hover {\n",
              "      background-color: #E2EBFA;\n",
              "      box-shadow: 0px 1px 2px rgba(60, 64, 67, 0.3), 0px 1px 3px 1px rgba(60, 64, 67, 0.15);\n",
              "      fill: #174EA6;\n",
              "    }\n",
              "\n",
              "    [theme=dark] .colab-df-convert {\n",
              "      background-color: #3B4455;\n",
              "      fill: #D2E3FC;\n",
              "    }\n",
              "\n",
              "    [theme=dark] .colab-df-convert:hover {\n",
              "      background-color: #434B5C;\n",
              "      box-shadow: 0px 1px 3px 1px rgba(0, 0, 0, 0.15);\n",
              "      filter: drop-shadow(0px 1px 2px rgba(0, 0, 0, 0.3));\n",
              "      fill: #FFFFFF;\n",
              "    }\n",
              "  </style>\n",
              "\n",
              "      <script>\n",
              "        const buttonEl =\n",
              "          document.querySelector('#df-413e5301-b06a-40b9-ac00-e7ae2d17bdcd button.colab-df-convert');\n",
              "        buttonEl.style.display =\n",
              "          google.colab.kernel.accessAllowed ? 'block' : 'none';\n",
              "\n",
              "        async function convertToInteractive(key) {\n",
              "          const element = document.querySelector('#df-413e5301-b06a-40b9-ac00-e7ae2d17bdcd');\n",
              "          const dataTable =\n",
              "            await google.colab.kernel.invokeFunction('convertToInteractive',\n",
              "                                                     [key], {});\n",
              "          if (!dataTable) return;\n",
              "\n",
              "          const docLinkHtml = 'Like what you see? Visit the ' +\n",
              "            '<a target=\"_blank\" href=https://colab.research.google.com/notebooks/data_table.ipynb>data table notebook</a>'\n",
              "            + ' to learn more about interactive tables.';\n",
              "          element.innerHTML = '';\n",
              "          dataTable['output_type'] = 'display_data';\n",
              "          await google.colab.output.renderOutput(dataTable, element);\n",
              "          const docLink = document.createElement('div');\n",
              "          docLink.innerHTML = docLinkHtml;\n",
              "          element.appendChild(docLink);\n",
              "        }\n",
              "      </script>\n",
              "    </div>\n",
              "  </div>\n",
              "  "
            ]
          },
          "metadata": {},
          "execution_count": 5
        }
      ]
    },
    {
      "cell_type": "markdown",
      "source": [
        "## Imputation\n",
        "First the simple DataFrame."
      ],
      "metadata": {
        "id": "vJwieNn9ISaA"
      }
    },
    {
      "cell_type": "markdown",
      "source": [
        "### `alien_df` Example"
      ],
      "metadata": {
        "id": "ng-iUCzzqj4d"
      }
    },
    {
      "cell_type": "code",
      "source": [
        "from sklearn.impute import SimpleImputer\n",
        "features = alien_df.loc[:, [\"alien_height\", \"alien_age\"]]\n",
        "print(features.head(), \"\\n\")\n",
        "imp = SimpleImputer()\n",
        "imp.fit(features)\n",
        "imputed = imp.transform(features)\n",
        "\n",
        "# the rest of this code block reformats the data to print it in an educative way. don't sweat it!\n",
        "# scikit learn often strips the column headers (it's due to converting arrays to numpy for math), so add them back like so:\n",
        "imputed_alien_df = pd.DataFrame(imputed,columns=features.columns)\n",
        "print(imputed_alien_df.head())\n",
        "# adding back the categorical data\n",
        "imputed_alien_df[\"home_planet\"] = alien_df[\"home_planet\"]"
      ],
      "metadata": {
        "id": "eJPkQ-KoNel2",
        "colab": {
          "base_uri": "https://localhost:8080/"
        },
        "outputId": "31255987-86c5-4569-c007-0182f0f0d0b2"
      },
      "execution_count": null,
      "outputs": [
        {
          "output_type": "stream",
          "name": "stdout",
          "text": [
            "   alien_height  alien_age\n",
            "0          80.0       12.0\n",
            "1          63.0        NaN\n",
            "2          70.0       87.0\n",
            "3          93.0      415.0\n",
            "4           NaN      892.0 \n",
            "\n",
            "   alien_height  alien_age\n",
            "0          80.0       12.0\n",
            "1          63.0      351.5\n",
            "2          70.0       87.0\n",
            "3          93.0      415.0\n",
            "4          76.5      892.0\n"
          ]
        }
      ]
    },
    {
      "cell_type": "markdown",
      "source": [
        "Now let's perform imputation on the exoplanets dataset."
      ],
      "metadata": {
        "id": "kLF_NofQNx7u"
      }
    },
    {
      "cell_type": "markdown",
      "source": [
        "### Exoplanets Example"
      ],
      "metadata": {
        "id": "CfP5unpVqpAq"
      }
    },
    {
      "cell_type": "code",
      "source": [
        "exo_numbers = exo.loc[:, ['radius', 'mass', 'orbital_period', 'star_distance']]\n",
        "print(exo.head())\n",
        "print(\"\\nNull values\\n\\n\", exo.isna().sum(), \"\\n\")\n",
        "imp = SimpleImputer()\n",
        "imp.fit(exo_numbers)\n",
        "imputed = imp.transform(exo_numbers)\n",
        "imputed_exo_df = pd.DataFrame(imputed,columns=exo_numbers.columns)\n",
        "\n",
        "# reformatting the imputed data below\n",
        "imputed_exo_df = pd.DataFrame(imputed,columns=exo_numbers.columns)\n",
        "# adding back in the categorical data\n",
        "imputed_exo_df[\"planet_status\"] = exo[\"planet_status\"]\n",
        "print(imputed_exo_df.head())\n",
        "print(\"\\nNull values\\n\\n\", imputed_exo_df.isna().sum())"
      ],
      "metadata": {
        "id": "esqekNcEN7PB",
        "colab": {
          "base_uri": "https://localhost:8080/"
        },
        "outputId": "1b983557-e843-4ae7-b09d-be4393354cfd"
      },
      "execution_count": null,
      "outputs": [
        {
          "output_type": "stream",
          "name": "stdout",
          "text": [
            "   radius   mass planet_status  orbital_period  star_distance\n",
            "0     NaN    NaN     Confirmed          326.03          110.6\n",
            "1     NaN  21.00     Confirmed       730000.00          145.0\n",
            "2     NaN    NaN     Confirmed          516.22          119.5\n",
            "3     NaN   3.72   Unconfirmed          651.90           31.6\n",
            "4     NaN    NaN     Confirmed          185.84           76.4\n",
            "\n",
            "Null values\n",
            "\n",
            " radius            1504\n",
            "mass              5815\n",
            "planet_status        0\n",
            "orbital_period     335\n",
            "star_distance     2665\n",
            "dtype: int64 \n",
            "\n",
            "     radius       mass  orbital_period  star_distance planet_status\n",
            "0  5.946769   6.872148          326.03          110.6     Confirmed\n",
            "1  5.946769  21.000000       730000.00          145.0     Confirmed\n",
            "2  5.946769   6.872148          516.22          119.5     Confirmed\n",
            "3  5.946769   3.720000          651.90           31.6   Unconfirmed\n",
            "4  5.946769   6.872148          185.84           76.4     Confirmed\n",
            "\n",
            "Null values\n",
            "\n",
            " radius            0\n",
            "mass              0\n",
            "orbital_period    0\n",
            "star_distance     0\n",
            "planet_status     0\n",
            "dtype: int64\n"
          ]
        }
      ]
    },
    {
      "cell_type": "markdown",
      "source": [
        "## One-Hot Encoding\n",
        "First the `alien_df` data."
      ],
      "metadata": {
        "id": "51Xkz1fUIcJB"
      }
    },
    {
      "cell_type": "markdown",
      "source": [
        "### `alien_df` Example"
      ],
      "metadata": {
        "id": "Wkt0SNm7qzks"
      }
    },
    {
      "cell_type": "code",
      "source": [
        "enc_alien_df = pd.get_dummies(imputed_alien_df)\n",
        "\n",
        "print(imputed_alien_df.head(), \"\\n\")\n",
        "print(enc_alien_df.head())"
      ],
      "metadata": {
        "colab": {
          "base_uri": "https://localhost:8080/"
        },
        "id": "SrYhMf-Cxpk2",
        "outputId": "1fc151e4-1468-4e85-aabe-890251f6ee3c"
      },
      "execution_count": null,
      "outputs": [
        {
          "output_type": "stream",
          "name": "stdout",
          "text": [
            "   alien_height  alien_age home_planet\n",
            "0          80.0       12.0        Mars\n",
            "1          63.0      351.5     Jupiter\n",
            "2          70.0       87.0      Europa\n",
            "3          93.0      415.0        Mars\n",
            "4          76.5      892.0      Europa \n",
            "\n",
            "   alien_height  alien_age  home_planet_Europa  home_planet_Jupiter  \\\n",
            "0          80.0       12.0                   0                    0   \n",
            "1          63.0      351.5                   0                    1   \n",
            "2          70.0       87.0                   1                    0   \n",
            "3          93.0      415.0                   0                    0   \n",
            "4          76.5      892.0                   1                    0   \n",
            "\n",
            "   home_planet_Mars  \n",
            "0                 1  \n",
            "1                 0  \n",
            "2                 0  \n",
            "3                 1  \n",
            "4                 0  \n"
          ]
        }
      ]
    },
    {
      "cell_type": "markdown",
      "source": [
        "Now the exoplanet dataset."
      ],
      "metadata": {
        "id": "6D_8S4pEo6_4"
      }
    },
    {
      "cell_type": "markdown",
      "source": [
        "### Exoplanets Example"
      ],
      "metadata": {
        "id": "9Z1qGJ8Hq1cG"
      }
    },
    {
      "cell_type": "code",
      "source": [
        "print(imputed_exo_df.loc[:, \"planet_status\"].unique())\n",
        "imputed_exo_df.head()"
      ],
      "metadata": {
        "id": "KHQKMeJ8F6nZ"
      },
      "execution_count": null,
      "outputs": []
    },
    {
      "cell_type": "code",
      "source": [
        "enc_exo_df = pd.get_dummies(imputed_exo_df)\n",
        "print(imputed_exo_df.head(), \"\\n\")\n",
        "print(enc_exo_df.head())"
      ],
      "metadata": {
        "colab": {
          "base_uri": "https://localhost:8080/"
        },
        "id": "20ChYYqG4c0s",
        "outputId": "ec62fa9b-d4c6-4117-accf-625a697abb9d"
      },
      "execution_count": null,
      "outputs": [
        {
          "output_type": "stream",
          "name": "stdout",
          "text": [
            "     radius       mass  orbital_period  star_distance planet_status\n",
            "0  5.946769   6.872148          326.03          110.6     Confirmed\n",
            "1  5.946769  21.000000       730000.00          145.0     Confirmed\n",
            "2  5.946769   6.872148          516.22          119.5     Confirmed\n",
            "3  5.946769   3.720000          651.90           31.6   Unconfirmed\n",
            "4  5.946769   6.872148          185.84           76.4     Confirmed \n",
            "\n",
            "     radius       mass  orbital_period  star_distance  \\\n",
            "0  5.946769   6.872148          326.03          110.6   \n",
            "1  5.946769  21.000000       730000.00          145.0   \n",
            "2  5.946769   6.872148          516.22          119.5   \n",
            "3  5.946769   3.720000          651.90           31.6   \n",
            "4  5.946769   6.872148          185.84           76.4   \n",
            "\n",
            "   planet_status_Candidate  planet_status_Confirmed  \\\n",
            "0                        0                        1   \n",
            "1                        0                        1   \n",
            "2                        0                        1   \n",
            "3                        0                        0   \n",
            "4                        0                        1   \n",
            "\n",
            "   planet_status_Controversial  planet_status_Retracted  \\\n",
            "0                            0                        0   \n",
            "1                            0                        0   \n",
            "2                            0                        0   \n",
            "3                            0                        0   \n",
            "4                            0                        0   \n",
            "\n",
            "   planet_status_Unconfirmed  \n",
            "0                          0  \n",
            "1                          0  \n",
            "2                          0  \n",
            "3                          1  \n",
            "4                          0  \n"
          ]
        }
      ]
    },
    {
      "cell_type": "markdown",
      "source": [
        "## Further Practice\n",
        "If you want to sharpen your skills, try feature scaling the exoplanet data below. Then you'd have a wholly preprocessed dataset!\n",
        "\n",
        "(Since the one-hot encoded data occurs within the normal range of standard deviation, you don't need to worry about scaling it.)"
      ],
      "metadata": {
        "id": "W0eXqDNombOX"
      }
    },
    {
      "cell_type": "code",
      "source": [
        "from sklearn import preprocessing\n",
        "from sklearn.model_selection import train_test_split\n",
        "\n",
        "# remember how this goes?"
      ],
      "metadata": {
        "id": "vuipIATXnIRT"
      },
      "execution_count": null,
      "outputs": []
    }
  ]
}