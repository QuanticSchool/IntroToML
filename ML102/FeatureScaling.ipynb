{
  "nbformat": 4,
  "nbformat_minor": 0,
  "metadata": {
    "colab": {
      "name": "Feature Scaling",
      "provenance": [],
      "collapsed_sections": []
    },
    "kernelspec": {
      "name": "python3",
      "display_name": "Python 3"
    },
    "language_info": {
      "name": "python"
    }
  },
  "cells": [
    {
      "cell_type": "markdown",
      "source": [
        "## Our Unscaled Data\n",
        "\n",
        "We'll start by creating a small DataFrame with two imbalanced features and a label."
      ],
      "metadata": {
        "id": "DWGTYTpp2YWr"
      }
    },
    {
      "cell_type": "code",
      "execution_count": null,
      "metadata": {
        "colab": {
          "base_uri": "https://localhost:8080/",
          "height": 206
        },
        "id": "mJHFZpykoCmO",
        "outputId": "1f25b750-cee6-4d81-a0a3-44e0c675c237"
      },
      "outputs": [
        {
          "output_type": "execute_result",
          "data": {
            "text/html": [
              "\n",
              "  <div id=\"df-a9fb4bba-70ed-4c18-96b1-67c8ba752f68\">\n",
              "    <div class=\"colab-df-container\">\n",
              "      <div>\n",
              "<style scoped>\n",
              "    .dataframe tbody tr th:only-of-type {\n",
              "        vertical-align: middle;\n",
              "    }\n",
              "\n",
              "    .dataframe tbody tr th {\n",
              "        vertical-align: top;\n",
              "    }\n",
              "\n",
              "    .dataframe thead th {\n",
              "        text-align: right;\n",
              "    }\n",
              "</style>\n",
              "<table border=\"1\" class=\"dataframe\">\n",
              "  <thead>\n",
              "    <tr style=\"text-align: right;\">\n",
              "      <th></th>\n",
              "      <th>alien_weight</th>\n",
              "      <th>spaceship_weight</th>\n",
              "      <th>fuel</th>\n",
              "    </tr>\n",
              "  </thead>\n",
              "  <tbody>\n",
              "    <tr>\n",
              "      <th>0</th>\n",
              "      <td>80</td>\n",
              "      <td>2993</td>\n",
              "      <td>523</td>\n",
              "    </tr>\n",
              "    <tr>\n",
              "      <th>1</th>\n",
              "      <td>63</td>\n",
              "      <td>3267</td>\n",
              "      <td>353</td>\n",
              "    </tr>\n",
              "    <tr>\n",
              "      <th>2</th>\n",
              "      <td>70</td>\n",
              "      <td>4231</td>\n",
              "      <td>489</td>\n",
              "    </tr>\n",
              "    <tr>\n",
              "      <th>3</th>\n",
              "      <td>93</td>\n",
              "      <td>3987</td>\n",
              "      <td>628</td>\n",
              "    </tr>\n",
              "    <tr>\n",
              "      <th>4</th>\n",
              "      <td>67</td>\n",
              "      <td>2324</td>\n",
              "      <td>411</td>\n",
              "    </tr>\n",
              "  </tbody>\n",
              "</table>\n",
              "</div>\n",
              "      <button class=\"colab-df-convert\" onclick=\"convertToInteractive('df-a9fb4bba-70ed-4c18-96b1-67c8ba752f68')\"\n",
              "              title=\"Convert this dataframe to an interactive table.\"\n",
              "              style=\"display:none;\">\n",
              "        \n",
              "  <svg xmlns=\"http://www.w3.org/2000/svg\" height=\"24px\"viewBox=\"0 0 24 24\"\n",
              "       width=\"24px\">\n",
              "    <path d=\"M0 0h24v24H0V0z\" fill=\"none\"/>\n",
              "    <path d=\"M18.56 5.44l.94 2.06.94-2.06 2.06-.94-2.06-.94-.94-2.06-.94 2.06-2.06.94zm-11 1L8.5 8.5l.94-2.06 2.06-.94-2.06-.94L8.5 2.5l-.94 2.06-2.06.94zm10 10l.94 2.06.94-2.06 2.06-.94-2.06-.94-.94-2.06-.94 2.06-2.06.94z\"/><path d=\"M17.41 7.96l-1.37-1.37c-.4-.4-.92-.59-1.43-.59-.52 0-1.04.2-1.43.59L10.3 9.45l-7.72 7.72c-.78.78-.78 2.05 0 2.83L4 21.41c.39.39.9.59 1.41.59.51 0 1.02-.2 1.41-.59l7.78-7.78 2.81-2.81c.8-.78.8-2.07 0-2.86zM5.41 20L4 18.59l7.72-7.72 1.47 1.35L5.41 20z\"/>\n",
              "  </svg>\n",
              "      </button>\n",
              "      \n",
              "  <style>\n",
              "    .colab-df-container {\n",
              "      display:flex;\n",
              "      flex-wrap:wrap;\n",
              "      gap: 12px;\n",
              "    }\n",
              "\n",
              "    .colab-df-convert {\n",
              "      background-color: #E8F0FE;\n",
              "      border: none;\n",
              "      border-radius: 50%;\n",
              "      cursor: pointer;\n",
              "      display: none;\n",
              "      fill: #1967D2;\n",
              "      height: 32px;\n",
              "      padding: 0 0 0 0;\n",
              "      width: 32px;\n",
              "    }\n",
              "\n",
              "    .colab-df-convert:hover {\n",
              "      background-color: #E2EBFA;\n",
              "      box-shadow: 0px 1px 2px rgba(60, 64, 67, 0.3), 0px 1px 3px 1px rgba(60, 64, 67, 0.15);\n",
              "      fill: #174EA6;\n",
              "    }\n",
              "\n",
              "    [theme=dark] .colab-df-convert {\n",
              "      background-color: #3B4455;\n",
              "      fill: #D2E3FC;\n",
              "    }\n",
              "\n",
              "    [theme=dark] .colab-df-convert:hover {\n",
              "      background-color: #434B5C;\n",
              "      box-shadow: 0px 1px 3px 1px rgba(0, 0, 0, 0.15);\n",
              "      filter: drop-shadow(0px 1px 2px rgba(0, 0, 0, 0.3));\n",
              "      fill: #FFFFFF;\n",
              "    }\n",
              "  </style>\n",
              "\n",
              "      <script>\n",
              "        const buttonEl =\n",
              "          document.querySelector('#df-a9fb4bba-70ed-4c18-96b1-67c8ba752f68 button.colab-df-convert');\n",
              "        buttonEl.style.display =\n",
              "          google.colab.kernel.accessAllowed ? 'block' : 'none';\n",
              "\n",
              "        async function convertToInteractive(key) {\n",
              "          const element = document.querySelector('#df-a9fb4bba-70ed-4c18-96b1-67c8ba752f68');\n",
              "          const dataTable =\n",
              "            await google.colab.kernel.invokeFunction('convertToInteractive',\n",
              "                                                     [key], {});\n",
              "          if (!dataTable) return;\n",
              "\n",
              "          const docLinkHtml = 'Like what you see? Visit the ' +\n",
              "            '<a target=\"_blank\" href=https://colab.research.google.com/notebooks/data_table.ipynb>data table notebook</a>'\n",
              "            + ' to learn more about interactive tables.';\n",
              "          element.innerHTML = '';\n",
              "          dataTable['output_type'] = 'display_data';\n",
              "          await google.colab.output.renderOutput(dataTable, element);\n",
              "          const docLink = document.createElement('div');\n",
              "          docLink.innerHTML = docLinkHtml;\n",
              "          element.appendChild(docLink);\n",
              "        }\n",
              "      </script>\n",
              "    </div>\n",
              "  </div>\n",
              "  "
            ],
            "text/plain": [
              "   alien_weight  spaceship_weight  fuel\n",
              "0            80              2993   523\n",
              "1            63              3267   353\n",
              "2            70              4231   489\n",
              "3            93              3987   628\n",
              "4            67              2324   411"
            ]
          },
          "metadata": {},
          "execution_count": 2
        }
      ],
      "source": [
        "import pandas as pd\n",
        "\n",
        "alien_fuel_data = {\"alien_weight\":[80, 63, 70, 93, 67, 72, 88, 61], \n",
        "              \"spaceship_weight\":[2993, 3267, 4231, 3987, 2324, 4118, 5003, 2576], \n",
        "              \"fuel\":[523, 353, 489, 628, 411, 528, 339, 418]}\n",
        "\n",
        "# practice what we learned last lesson\n",
        "alien_fuel_df = \"turn alien_fuel_data into a dataframe\"\n",
        "alien_fuel_df.head()"
      ]
    },
    {
      "cell_type": "code",
      "source": [
        "# practice more from last lesson and extract the features and labels into X and y\n",
        "X = \"extract alien_weight and spaceship_weight,  features\"\n",
        "y = \"extract fuel, the label\""
      ],
      "metadata": {
        "id": "Au5-W-CUf-QN"
      },
      "execution_count": null,
      "outputs": []
    },
    {
      "cell_type": "markdown",
      "source": [
        "## Revisiting the `train_test_split`\n",
        "\n",
        "Remember how we do this?\n",
        "\n",
        "If not, no biggie. That's what [docs](https://scikit-learn.org/stable/modules/generated/sklearn.model_selection.train_test_split.html) are for."
      ],
      "metadata": {
        "id": "gKBmIhLrfHH7"
      }
    },
    {
      "cell_type": "code",
      "source": [
        "from sklearn.model_selection import train_test_split\n",
        "\n",
        "X_train, X_test, y_train, y_test = train_test_split(X, y, test_size=0.2, random_state=42)\n",
        "\n",
        "print(\"Training data: \\n\", X_train, \"\\n\")\n",
        "print(\"Test data: \\n\", X_test)"
      ],
      "metadata": {
        "id": "gC3PasGqfaWX",
        "colab": {
          "base_uri": "https://localhost:8080/"
        },
        "outputId": "ca138024-ea27-440b-c1e1-556adddfdc15"
      },
      "execution_count": null,
      "outputs": [
        {
          "output_type": "stream",
          "name": "stdout",
          "text": [
            "Training data: \n",
            "    alien_weight  spaceship_weight\n",
            "0            80              2993\n",
            "7            61              2576\n",
            "2            70              4231\n",
            "4            67              2324\n",
            "3            93              3987\n",
            "6            88              5003 \n",
            "\n",
            "Test data: \n",
            "    alien_weight  spaceship_weight\n",
            "1            63              3267\n",
            "5            72              4118\n"
          ]
        }
      ]
    },
    {
      "cell_type": "markdown",
      "source": [
        "## Scaling the training and test data\n",
        "\n",
        "To understand how we use the training data's values to scale the testing data, we'll need to explore SciKit Learn's `.fit()` and `.transform()` methods.\n",
        "\n",
        "We first obtain the mean and standard deviation from the training data."
      ],
      "metadata": {
        "id": "FkEO6zXQ2jRN"
      }
    },
    {
      "cell_type": "code",
      "source": [
        "from sklearn import preprocessing\n",
        "\n",
        "scaler = preprocessing.StandardScaler().fit(\"what should you put here?\") # creates the standardization values\n",
        "\n",
        "print(scaler.mean_) # prints the mean of both columns of training data\n",
        "print(scaler.scale_) # prints the SD of both columns of training data"
      ],
      "metadata": {
        "colab": {
          "base_uri": "https://localhost:8080/"
        },
        "id": "mOpZtEgithdn",
        "outputId": "844f8821-a618-400a-bb10-96fd7125eb19"
      },
      "execution_count": null,
      "outputs": [
        {
          "output_type": "stream",
          "name": "stdout",
          "text": [
            "[  76.5 3519. ]\n",
            "[ 11.47097787 959.35516538]\n"
          ]
        }
      ]
    },
    {
      "cell_type": "markdown",
      "source": [
        "### Transforming the training data"
      ],
      "metadata": {
        "id": "oF1r_2K5qlGt"
      }
    },
    {
      "cell_type": "markdown",
      "source": [
        "Then we use the values generated by `.fit()` to transform the training data."
      ],
      "metadata": {
        "id": "aBKFLaqhsje7"
      }
    },
    {
      "cell_type": "code",
      "source": [
        "X_train_scaled = scaler.transform(X_train) # transforms the training data based on the values generated from .fit()\n",
        "\n",
        "print(\"Training data before scaling: \\n\", X_train, \"\\n\")\n",
        "\n",
        "# SKL often strips the column headers after transformation. They're added back on the following line.\n",
        "X_train_scaled_formatted = pd.DataFrame(X_train_scaled,columns=X_train.columns) \n",
        "print(\"Training data after scaling: \\n\", X_train_scaled_formatted)"
      ],
      "metadata": {
        "colab": {
          "base_uri": "https://localhost:8080/"
        },
        "id": "j0mt9nf5oA4p",
        "outputId": "2bd70899-689a-402f-80ea-242614271de0"
      },
      "execution_count": null,
      "outputs": [
        {
          "output_type": "stream",
          "name": "stdout",
          "text": [
            "Training data before scaling: \n",
            "    alien_weight  spaceship_weight\n",
            "0            80              2993\n",
            "7            61              2576\n",
            "2            70              4231\n",
            "4            67              2324\n",
            "3            93              3987\n",
            "6            88              5003 \n",
            "\n",
            "Training data after scaling: \n",
            "    alien_weight  spaceship_weight\n",
            "0      0.305118         -0.548285\n",
            "1     -1.351236         -0.982952\n",
            "2     -0.566647          0.742165\n",
            "3     -0.828177         -1.245628\n",
            "4      1.438413          0.487828\n",
            "5      1.002530          1.546872\n"
          ]
        }
      ]
    },
    {
      "cell_type": "markdown",
      "source": [
        "### Transforming the testing set\n",
        "\n",
        "Then we use the same values from fitting the training data to transform the testing data. This prevents the data leakage that would otherwise occur."
      ],
      "metadata": {
        "id": "kgaRdGilntnw"
      }
    },
    {
      "cell_type": "code",
      "source": [
        "# the scaler object still has the same mean and standard deviation that it did on the training set\n",
        "print(scaler.mean_)\n",
        "print(scaler.scale_)\n",
        "\n",
        "# that same transformation is applied to X_test\n",
        "X_test_scaled = scaler.transform(X_test)\n",
        "\n",
        "print(\"\\nTest data before scaling: \\n\", X_test, \"\\n\")\n",
        "X_test_scaled_formatted = pd.DataFrame(X_test_scaled,columns=X_test.columns)\n",
        "print(\"Test data after scaling: \\n\", X_test_scaled_formatted)"
      ],
      "metadata": {
        "colab": {
          "base_uri": "https://localhost:8080/"
        },
        "id": "PvrqCKCfmnQY",
        "outputId": "f8a26857-585d-470d-bdb4-3ab5683475eb"
      },
      "execution_count": null,
      "outputs": [
        {
          "output_type": "stream",
          "name": "stdout",
          "text": [
            "[  76.5 3519. ]\n",
            "[ 11.47097787 959.35516538]\n",
            "\n",
            "Test data before scaling: \n",
            "    alien_weight  spaceship_weight\n",
            "1            63              3267\n",
            "5            72              4118 \n",
            "\n",
            "Test data after scaling: \n",
            "    alien_weight  spaceship_weight\n",
            "0     -1.176883         -0.262676\n",
            "1     -0.392294          0.624378\n"
          ]
        }
      ]
    }
  ]
}