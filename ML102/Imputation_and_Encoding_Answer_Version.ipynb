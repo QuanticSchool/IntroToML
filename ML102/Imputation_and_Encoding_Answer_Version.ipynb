{
  "nbformat": 4,
  "nbformat_minor": 0,
  "metadata": {
    "colab": {
      "name": "Imputation and Encoding Answer Version.ipynb",
      "provenance": [],
      "collapsed_sections": []
    },
    "kernelspec": {
      "name": "python3",
      "display_name": "Python 3"
    },
    "language_info": {
      "name": "python"
    }
  },
  "cells": [
    {
      "cell_type": "markdown",
      "source": [
        "Data comes from [The Extrasolar Planet Encyclopedia](http://exoplanet.eu/). Thanks to Ilya Marchenko for sharing this dataset on [Kaggle](https://www.kaggle.com/ilyamarchenko/full-exoplanet-catalog?select=exoplanet_confirm_and_candidates.csv)."
      ],
      "metadata": {
        "id": "BB3sNglQrnTN"
      }
    },
    {
      "cell_type": "code",
      "execution_count": null,
      "metadata": {
        "id": "g2AaGqEU9bC1"
      },
      "outputs": [],
      "source": [
        "from google.colab import drive\n",
        "import pandas as pd\n",
        "drive.mount('/content/drive')"
      ]
    },
    {
      "cell_type": "code",
      "source": [
        "exo_full_dataset = pd.read_csv('/content/drive/My Drive/exoplanets.csv')\n",
        "exo_full_dataset.head()"
      ],
      "metadata": {
        "id": "3BI5pE0bLfsB"
      },
      "execution_count": null,
      "outputs": []
    },
    {
      "cell_type": "code",
      "source": [
        "exo = exo_full_dataset.loc[:, ['radius', 'mass', 'planet_status', 'orbital_period', 'star_distance']] "
      ],
      "metadata": {
        "id": "97Titj3M_tmn"
      },
      "execution_count": null,
      "outputs": []
    },
    {
      "cell_type": "code",
      "source": [
        "print(\"\\nUnique values\\n\",exo.nunique())\n",
        "print(\"\\nNull values\\n\\n\", exo.isna().sum())"
      ],
      "metadata": {
        "id": "Jfak73vWDrX_"
      },
      "execution_count": null,
      "outputs": []
    },
    {
      "cell_type": "markdown",
      "source": [
        "## Create dummy example data\n",
        "\n",
        "For all techniques we'll first demonstrate them on the simple DataFrame created below, then on the more realistic CSV file."
      ],
      "metadata": {
        "id": "iKwGAw9-NQqS"
      }
    },
    {
      "cell_type": "code",
      "source": [
        "import numpy as np\n",
        "\n",
        "alien_species = {\"alien_height\":[80, 63, 70, 93, np.nan], \"alien_age\":[12, np.nan, 87, 415, 892], \"home_planet\":[\"Mars\", \"Jupiter\", \"Europa\", \"Mars\", \"Europa\"]}\n",
        "\n",
        "alien_df = pd.DataFrame(alien_species)\n",
        "alien_df.head()"
      ],
      "metadata": {
        "id": "LCJ63eqvIbwq"
      },
      "execution_count": null,
      "outputs": []
    },
    {
      "cell_type": "markdown",
      "source": [
        "## Imputation\n",
        "First the simple DataFrame."
      ],
      "metadata": {
        "id": "vJwieNn9ISaA"
      }
    },
    {
      "cell_type": "markdown",
      "source": [
        "### `alien_df` Example"
      ],
      "metadata": {
        "id": "ng-iUCzzqj4d"
      }
    },
    {
      "cell_type": "code",
      "source": [
        "from sklearn.impute import SimpleImputer\n",
        "features = alien_df.loc[:, [\"alien_height\", \"alien_age\"]]\n",
        "print(features.head(), \"\\n\")\n",
        "imp = SimpleImputer()\n",
        "imp.fit(features)\n",
        "imputed = imp.transform(features)\n",
        "\n",
        "# the rest of this code block reformats the data to print it in an educative way. don't sweat it!\n",
        "# scikit learn often strips the column headers (it's due to converting arrays to numpy for math), so add them back like so:\n",
        "imputed_alien_df = pd.DataFrame(imputed,columns=features.columns)\n",
        "print(imputed_alien_df.head())\n",
        "# adding back the categorical data\n",
        "imputed_alien_df[\"home_planet\"] = alien_df[\"home_planet\"]"
      ],
      "metadata": {
        "id": "eJPkQ-KoNel2"
      },
      "execution_count": null,
      "outputs": []
    },
    {
      "cell_type": "markdown",
      "source": [
        "Now let's perform imputation on the exoplanets dataset."
      ],
      "metadata": {
        "id": "kLF_NofQNx7u"
      }
    },
    {
      "cell_type": "markdown",
      "source": [
        "### Exoplanets Example"
      ],
      "metadata": {
        "id": "CfP5unpVqpAq"
      }
    },
    {
      "cell_type": "code",
      "source": [
        "exo_numbers = exo.loc[:, ['radius', 'mass', 'orbital_period', 'star_distance']]\n",
        "print(exo.head())\n",
        "print(\"\\nNull values\\n\\n\", exo.isna().sum(), \"\\n\")\n",
        "imp = SimpleImputer()\n",
        "imp.fit(exo_numbers)\n",
        "imputed = imp.transform(exo_numbers)\n",
        "imputed_exo_df = pd.DataFrame(imputed,columns=exo_numbers.columns)\n",
        "\n",
        "# reformatting the imputed data below\n",
        "imputed_exo_df = pd.DataFrame(imputed,columns=exo_numbers.columns)\n",
        "# adding back in the categorical data\n",
        "imputed_exo_df[\"planet_status\"] = exo[\"planet_status\"]\n",
        "print(imputed_exo_df.head())\n",
        "print(\"\\nNull values\\n\\n\", imputed_exo_df.isna().sum())"
      ],
      "metadata": {
        "id": "esqekNcEN7PB"
      },
      "execution_count": null,
      "outputs": []
    },
    {
      "cell_type": "markdown",
      "source": [
        "## One-Hot Encoding\n",
        "First the `alien_df` data."
      ],
      "metadata": {
        "id": "51Xkz1fUIcJB"
      }
    },
    {
      "cell_type": "markdown",
      "source": [
        "### `alien_df` Example"
      ],
      "metadata": {
        "id": "Wkt0SNm7qzks"
      }
    },
    {
      "cell_type": "code",
      "source": [
        "enc_alien_df = pd.get_dummies(imputed_alien_df)\n",
        "\n",
        "print(imputed_alien_df.head(), \"\\n\")\n",
        "print(enc_alien_df.head())"
      ],
      "metadata": {
        "id": "SrYhMf-Cxpk2"
      },
      "execution_count": null,
      "outputs": []
    },
    {
      "cell_type": "markdown",
      "source": [
        "Now the exoplanet dataset."
      ],
      "metadata": {
        "id": "6D_8S4pEo6_4"
      }
    },
    {
      "cell_type": "markdown",
      "source": [
        "### Exoplanets Example"
      ],
      "metadata": {
        "id": "9Z1qGJ8Hq1cG"
      }
    },
    {
      "cell_type": "code",
      "source": [
        "print(imputed_exo_df.loc[:, \"planet_status\"].unique())\n",
        "imputed_exo_df.head()"
      ],
      "metadata": {
        "id": "KHQKMeJ8F6nZ"
      },
      "execution_count": null,
      "outputs": []
    },
    {
      "cell_type": "code",
      "source": [
        "enc_exo_df = pd.get_dummies(imputed_exo_df)\n",
        "print(imputed_exo_df.head(), \"\\n\")\n",
        "print(enc_exo_df.head())"
      ],
      "metadata": {
        "id": "20ChYYqG4c0s"
      },
      "execution_count": null,
      "outputs": []
    },
    {
      "cell_type": "markdown",
      "source": [
        "## Further Practice\n",
        "If you want to sharpen your skills, try feature scaling the exoplanet data below. Then you'd have a wholly preprocessed dataset!\n",
        "\n",
        "(Since the one-hot encoded data occurs within the normal range of standard deviation, you don't need to worry about scaling it.)"
      ],
      "metadata": {
        "id": "W0eXqDNombOX"
      }
    },
    {
      "cell_type": "code",
      "source": [
        "from sklearn import preprocessing\n",
        "from sklearn.model_selection import train_test_split\n",
        "\n",
        "# remember how this goes?"
      ],
      "metadata": {
        "id": "vuipIATXnIRT"
      },
      "execution_count": null,
      "outputs": []
    }
  ]
}